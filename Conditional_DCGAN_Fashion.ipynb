{
 "cells": [
  {
   "cell_type": "markdown",
   "metadata": {
    "id": "L4E109s868zM",
    "pycharm": {
     "name": "#%% md\n"
    }
   },
   "source": [
    "# Conditional Deep Convolutional Generative Adversarial Networks\n",
    "\n",
    "Implement conditional GAN as mentioned in [Conditional Generative Adversarial Nets](https://arxiv.org/abs/1411.1784) paper.\n",
    "\n",
    "We will use DCGAN architecture and modify for taking conditional input labels.\n",
    "\n",
    "\n",
    "### Let's start by imports\n"
   ]
  },
  {
   "cell_type": "code",
   "execution_count": null,
   "metadata": {
    "colab": {
     "base_uri": "https://localhost:8080/"
    },
    "executionInfo": {
     "elapsed": 800,
     "status": "ok",
     "timestamp": 1660866274850,
     "user": {
      "displayName": "Frederick Atiah",
      "userId": "02989612204172587808"
     },
     "user_tz": 240
    },
    "id": "5QOw6Dc4LShV",
    "outputId": "d9738b0d-a705-41b2-b981-dbfd45a49871",
    "pycharm": {
     "name": "#%%\n"
    }
   },
   "outputs": [
    {
     "output_type": "stream",
     "name": "stdout",
     "text": [
      "Drive already mounted at /content/drive; to attempt to forcibly remount, call drive.mount(\"/content/drive\", force_remount=True).\n"
     ]
    }
   ],
   "source": [
    "from google.colab import drive\n",
    "\n",
    "drive.mount('/content/drive')"
   ]
  },
  {
   "cell_type": "code",
   "execution_count": null,
   "metadata": {
    "id": "3tuAPnB67_cz",
    "pycharm": {
     "name": "#%%\n"
    }
   },
   "outputs": [],
   "source": [
    "#!unzip \"/content/drive/MyDrive/GBC/Friends/Capstone_Project/Fashion/Data/segImagesNew.zip\" -d \"/content/drive/MyDrive/GBC/Friends/Capstone_Project/Fashion/Data\""
   ]
  },
  {
   "cell_type": "code",
   "execution_count": null,
   "metadata": {
    "colab": {
     "base_uri": "https://localhost:8080/"
    },
    "executionInfo": {
     "elapsed": 743,
     "status": "ok",
     "timestamp": 1660866277154,
     "user": {
      "displayName": "Frederick Atiah",
      "userId": "02989612204172587808"
     },
     "user_tz": 240
    },
    "id": "B3P55qdC8DRq",
    "outputId": "10a4a256-31a6-417c-c547-2a40d6e88956",
    "pycharm": {
     "name": "#%%\n"
    }
   },
   "outputs": [
    {
     "output_type": "stream",
     "name": "stdout",
     "text": [
      "Random Seed:  999\n"
     ]
    },
    {
     "output_type": "execute_result",
     "data": {
      "text/plain": [
       "<torch._C.Generator at 0x7f0234694790>"
      ]
     },
     "metadata": {},
     "execution_count": 4
    }
   ],
   "source": [
    "import torch\n",
    "import torchvision\n",
    "import torch.nn as nn\n",
    "import torch.nn.functional as F\n",
    "from torchvision import datasets, transforms\n",
    "import json\n",
    "import numpy as np\n",
    "from PIL import Image\n",
    "import matplotlib.pyplot as plt\n",
    "import matplotlib.animation as animation\n",
    "from IPython.display import HTML\n",
    "import random\n",
    "import torchvision.utils as vutils\n",
    "\n",
    "% matplotlib inline\n",
    "\n",
    "# Set random seed for reproducibility\n",
    "manualSeed = 999\n",
    "#manualSeed = random.randint(1, 10000) # use if you want new results\n",
    "print(\"Random Seed: \", manualSeed)\n",
    "random.seed(manualSeed)\n",
    "torch.manual_seed(manualSeed)"
   ]
  },
  {
   "cell_type": "code",
   "execution_count": null,
   "metadata": {
    "colab": {
     "base_uri": "https://localhost:8080/"
    },
    "executionInfo": {
     "elapsed": 8,
     "status": "ok",
     "timestamp": 1660866277154,
     "user": {
      "displayName": "Frederick Atiah",
      "userId": "02989612204172587808"
     },
     "user_tz": 240
    },
    "id": "Vl6bKG0C8JD5",
    "outputId": "99e00fef-7615-473f-8438-289251b0f0c1",
    "pycharm": {
     "name": "#%%\n"
    }
   },
   "outputs": [
    {
     "output_type": "stream",
     "name": "stdout",
     "text": [
      "Using cuda backend\n"
     ]
    }
   ],
   "source": [
    "# use cuda if available\n",
    "DEVICE = torch.device(\"cuda\" if torch.cuda.is_available()\n",
    "                      else \"cpu\")\n",
    "print(f\"Using {DEVICE} backend\")\n",
    "\n",
    "DATASET_NAME = \"FASHION\"  #@param {type:\"string\"}\n",
    "# batch size for training models \n",
    "# Change multiple of 16 only, else modify below code\n",
    "BATCH_SIZE = 10  #@param {type:\"integer\"}\n",
    "IMG_SIZE = 68  #@param {type:\"integer\"}"
   ]
  },
  {
   "cell_type": "markdown",
   "metadata": {
    "id": "npKgap6npJaT",
    "pycharm": {
     "name": "#%% md\n"
    }
   },
   "source": [
    "## Data Loading\n"
   ]
  },
  {
   "cell_type": "code",
   "execution_count": null,
   "metadata": {
    "id": "M6krqsXd8Mkw",
    "pycharm": {
     "name": "#%%\n"
    }
   },
   "outputs": [],
   "source": [
    "import os\n",
    "from torch.utils.data import Dataset\n",
    "\n",
    "os.environ['CUDA_LAUNCH_BLOCKING'] = \"1\"\n",
    "\n",
    "\n",
    "class FashionDataset(Dataset):\n",
    "    def __init__(self, json_data, root_dir, segments_dir, image_size, gen_img_sz):\n",
    "\n",
    "        self.gen_img_sz = gen_img_sz\n",
    "        self.meta_data = json_data\n",
    "        self.root_dir = root_dir\n",
    "        self.segments_dir = segments_dir\n",
    "        self.transformGen = torchvision.transforms.Compose(\n",
    "            [torchvision.transforms.Resize(size=(gen_img_sz, gen_img_sz)), torchvision.transforms.ToTensor(),\n",
    "             transforms.Normalize([0.5], [0.5])])\n",
    "        self.transformDis = torchvision.transforms.Compose(\n",
    "            [torchvision.transforms.Resize(size=(image_size, image_size)), torchvision.transforms.ToTensor(),\n",
    "             transforms.Normalize([0.5], [0.5])])\n",
    "\n",
    "    def __len__(self):\n",
    "        return len(self.meta_data)\n",
    "\n",
    "    def __getitem__(self, idx):\n",
    "        if torch.is_tensor(idx):\n",
    "            idx = idx.tolist()\n",
    "        filename = list(self.meta_data[idx].keys())[0]\n",
    "        # img_name = os.path.join(self.root_dir, filename)\n",
    "        img_name = self.root_dir + '/' + filename\n",
    "        image = Image.open(img_name).convert('RGB')\n",
    "\n",
    "        gen_img = torch.randn(4, self.gen_img_sz, self.gen_img_sz)\n",
    "        labels = []\n",
    "        for img in self.meta_data[idx][filename]:\n",
    "            # segImage = Image.open(os.path.join(self.segments_dir,img['segImage']))\n",
    "            segImage = Image.open(self.segments_dir + '/' + img['segImage'])\n",
    "            gen_img = gen_img + self.transformGen(segImage)\n",
    "            labels.append(img['class'])\n",
    "\n",
    "        sample = {'image': self.transformDis(image), 'inputImage': gen_img}\n",
    "\n",
    "        return sample, self.get_lables(labels)\n",
    "\n",
    "    def get_lables(self, labels):\n",
    "        index = torch.tensor(labels)\n",
    "        labels = torch.zeros(1, 13).index_fill_(1, index, 1)\n",
    "        return labels.view(-1, 13)"
   ]
  },
  {
   "cell_type": "code",
   "execution_count": null,
   "metadata": {
    "id": "7vUx6BKK8TEw",
    "pycharm": {
     "name": "#%%\n"
    }
   },
   "outputs": [],
   "source": [
    "root_dir = \"/content/drive/MyDrive/GBC/Friends/Capstone_Project/Fashion/Data/train\"\n",
    "seg_dir = \"/content/drive/MyDrive/GBC/Friends/Capstone_Project/Fashion/Data/segImages\"\n",
    "\n",
    "f = open(\"/content/drive/MyDrive/GBC/Friends/Capstone_Project/Fashion/Data/metadata_train.json\")\n",
    "j_file = json.load(f)\n",
    "f.close()\n",
    "\n",
    "# train_data = FashionDataset(j_file[:50000], root_dir, seg_dir, 64 , 64)\n",
    "train_data = FashionDataset(j_file[:1000], root_dir, seg_dir, 68, 13)\n",
    "\n",
    "dataloader = torch.utils.data.DataLoader(train_data, batch_size=BATCH_SIZE, shuffle=True, num_workers=2, drop_last=True)"
   ]
  },
  {
   "cell_type": "code",
   "execution_count": null,
   "metadata": {
    "id": "N63GYpWeX_Wp",
    "pycharm": {
     "name": "#%%\n"
    }
   },
   "outputs": [],
   "source": [
    "sam, lbl = train_data[2]"
   ]
  },
  {
   "cell_type": "code",
   "execution_count": null,
   "metadata": {
    "colab": {
     "base_uri": "https://localhost:8080/"
    },
    "executionInfo": {
     "elapsed": 123,
     "status": "ok",
     "timestamp": 1660866304468,
     "user": {
      "displayName": "Frederick Atiah",
      "userId": "02989612204172587808"
     },
     "user_tz": 240
    },
    "id": "GIqQNN71B771",
    "outputId": "6fd55d09-33f0-498a-f16f-77a877e511e9",
    "pycharm": {
     "name": "#%%\n"
    }
   },
   "outputs": [
    {
     "output_type": "execute_result",
     "data": {
      "text/plain": [
       "tensor([[1., 0., 0., 0., 0., 0., 1., 0., 0., 0., 0., 0., 0.]])"
      ]
     },
     "metadata": {},
     "execution_count": 9
    }
   ],
   "source": [
    "lbl"
   ]
  },
  {
   "cell_type": "markdown",
   "metadata": {
    "id": "IW4E-IV4y3Qn",
    "pycharm": {
     "name": "#%% md\n"
    }
   },
   "source": [
    "## Discriminator Model ( D )\n",
    "\n",
    "Discriminator is a binary classification model, which predicts if given image is generated one or taken from training data.\n",
    "\n",
    "Discriminator model will take a image and a class label. We will reshape class label to shape (batch_size, num_labels, 28, 28) and channel corresponding to image labels will have all ones and other all zeros."
   ]
  },
  {
   "cell_type": "code",
   "execution_count": null,
   "metadata": {
    "id": "ttrXP45f8fi6",
    "pycharm": {
     "name": "#%%\n"
    }
   },
   "outputs": [],
   "source": [
    "class Discriminator(nn.Module):\n",
    "    \"\"\" D(x) \"\"\"\n",
    "\n",
    "    def __init__(self):\n",
    "        # initalize super module\n",
    "        super(Discriminator, self).__init__()\n",
    "\n",
    "        self.linear_y = nn.Sequential(nn.Linear(13, 1024),\n",
    "                                      nn.ReLU(),\n",
    "                                      nn.Linear(1024, 3 * 68 * 68),\n",
    "                                      nn.Sigmoid()\n",
    "                                      )\n",
    "\n",
    "        self.linear_xy = nn.Sequential(nn.Linear(100, 1),\n",
    "                                       nn.Sigmoid()\n",
    "                                       )\n",
    "\n",
    "        # creating layer for image input , input size : (batch_size, 3, 64, 64)\n",
    "        self.layer_x = nn.Sequential(nn.Conv2d(in_channels=3, out_channels=32,\n",
    "                                               kernel_size=4, stride=2, padding=1, bias=False),\n",
    "                                     # out size : (batch_size, 32, 32, 32)\n",
    "                                     nn.LeakyReLU(0.2, inplace=True),\n",
    "                                     # out size : (batch_size, 32, 32, 32)\n",
    "                                     )\n",
    "\n",
    "        # creating layer for label input, input size : (batch_size, 13, 64, 64)\n",
    "        self.layer_y = nn.Sequential(nn.Conv2d(in_channels=3, out_channels=32,\n",
    "                                               kernel_size=4, stride=2, padding=1, bias=False),\n",
    "                                     # out size : (batch_size, 32, 32, 32)\n",
    "                                     nn.LeakyReLU(0.2, inplace=True),\n",
    "                                     # out size : (batch_size, 32, 32, 32)\n",
    "                                     )\n",
    "\n",
    "        # layer for concat of image layer and label layer, input size : (batch_size, 64, 32, 32)\n",
    "        self.layer_xy = nn.Sequential(nn.Conv2d(in_channels=64, out_channels=64,\n",
    "                                                kernel_size=4, stride=2, padding=1, bias=False),\n",
    "                                      # out size : (batch_size, 128, 7, 7)\n",
    "                                      nn.BatchNorm2d(64),\n",
    "                                      # out size : (batch_size, 128, 7, 7)\n",
    "                                      nn.LeakyReLU(0.2, inplace=True),\n",
    "                                      # out size : (batch_size, 128, 7, 7)\n",
    "                                      nn.Conv2d(in_channels=64, out_channels=32,\n",
    "                                                kernel_size=3, stride=2, padding=0, bias=False),\n",
    "                                      # out size : (batch_size, 256, 3, 3)\n",
    "                                      nn.BatchNorm2d(32),\n",
    "                                      # out size : (batch_size, 256, 3, 3)\n",
    "                                      nn.LeakyReLU(0.2, inplace=True),\n",
    "\n",
    "                                      nn.Conv2d(in_channels=32, out_channels=8,\n",
    "                                                kernel_size=3, stride=2, padding=0, bias=False),\n",
    "                                      # out size : (batch_size, 256, 3, 3)\n",
    "                                      nn.BatchNorm2d(8),\n",
    "                                      # out size : (batch_size, 256, 3, 3)\n",
    "                                      nn.LeakyReLU(0.2, inplace=True),\n",
    "\n",
    "                                      #  # out size : (batch_size, 256, 3, 3)\n",
    "                                      #  # Notice in below layer, we are using out channels as 1, we don't need to use Linear layer\n",
    "                                      #  # Same is recommended in DCGAN paper also\n",
    "                                      nn.Conv2d(in_channels=8, out_channels=1,\n",
    "                                                kernel_size=3, stride=3, padding=0, bias=False),\n",
    "\n",
    "                                      #  # out size : (batch_size, 1, 1, 1)\n",
    "                                      #  # sigmoid layer to convert in [0,1] range\n",
    "\n",
    "                                      nn.Sigmoid()\n",
    "                                      )\n",
    "\n",
    "    def forward(self, x, y):\n",
    "        y = self.linear_y(y)\n",
    "        y = y.view(x.shape[0], x.shape[1], x.shape[2], x.shape[3])\n",
    "\n",
    "        # size of x : (batch_size, 1, 64, 64)\n",
    "        x = self.layer_x(x)\n",
    "\n",
    "        # print(\"Y: \", x.shape)\n",
    "        # size of x : (batch_size, 32, 32, 32)\n",
    "\n",
    "        # size of y : (batch_size, 13, 64, 64)\n",
    "        y = self.layer_y(y)\n",
    "        # print(\"y: \", y.shape)\n",
    "        # # size of y : (batch_size, 32, 32, 32)\n",
    "\n",
    "        # concat image layer and label layer output\n",
    "        xy = torch.cat([x, y], dim=1)\n",
    "        # size of xy : (batch_size, 64, 32, 32)\n",
    "        xy = self.layer_xy(xy)\n",
    "        # print(\"xy: \", xy.shape)\n",
    "        # # size of xy : (batch_size, 1, 1, 1)\n",
    "        xy = xy.view(xy.shape[0], -1)\n",
    "        # # size of xy : (batch_size, 1)\n",
    "        # xy = self.linear_xy(xy)\n",
    "        return xy"
   ]
  },
  {
   "cell_type": "code",
   "execution_count": null,
   "metadata": {
    "colab": {
     "base_uri": "https://localhost:8080/"
    },
    "executionInfo": {
     "elapsed": 4659,
     "status": "ok",
     "timestamp": 1660866314019,
     "user": {
      "displayName": "Frederick Atiah",
      "userId": "02989612204172587808"
     },
     "user_tz": 240
    },
    "id": "cazn6Yf98ihF",
    "outputId": "082182fb-eb81-4e04-ded7-211049069600",
    "pycharm": {
     "name": "#%%\n"
    }
   },
   "outputs": [
    {
     "output_type": "stream",
     "name": "stdout",
     "text": [
      "Discriminator(\n",
      "  (linear_y): Sequential(\n",
      "    (0): Linear(in_features=13, out_features=1024, bias=True)\n",
      "    (1): ReLU()\n",
      "    (2): Linear(in_features=1024, out_features=13872, bias=True)\n",
      "    (3): Sigmoid()\n",
      "  )\n",
      "  (linear_xy): Sequential(\n",
      "    (0): Linear(in_features=100, out_features=1, bias=True)\n",
      "    (1): Sigmoid()\n",
      "  )\n",
      "  (layer_x): Sequential(\n",
      "    (0): Conv2d(3, 32, kernel_size=(4, 4), stride=(2, 2), padding=(1, 1), bias=False)\n",
      "    (1): LeakyReLU(negative_slope=0.2, inplace=True)\n",
      "  )\n",
      "  (layer_y): Sequential(\n",
      "    (0): Conv2d(3, 32, kernel_size=(4, 4), stride=(2, 2), padding=(1, 1), bias=False)\n",
      "    (1): LeakyReLU(negative_slope=0.2, inplace=True)\n",
      "  )\n",
      "  (layer_xy): Sequential(\n",
      "    (0): Conv2d(64, 64, kernel_size=(4, 4), stride=(2, 2), padding=(1, 1), bias=False)\n",
      "    (1): BatchNorm2d(64, eps=1e-05, momentum=0.1, affine=True, track_running_stats=True)\n",
      "    (2): LeakyReLU(negative_slope=0.2, inplace=True)\n",
      "    (3): Conv2d(64, 32, kernel_size=(3, 3), stride=(2, 2), bias=False)\n",
      "    (4): BatchNorm2d(32, eps=1e-05, momentum=0.1, affine=True, track_running_stats=True)\n",
      "    (5): LeakyReLU(negative_slope=0.2, inplace=True)\n",
      "    (6): Conv2d(32, 8, kernel_size=(3, 3), stride=(2, 2), bias=False)\n",
      "    (7): BatchNorm2d(8, eps=1e-05, momentum=0.1, affine=True, track_running_stats=True)\n",
      "    (8): LeakyReLU(negative_slope=0.2, inplace=True)\n",
      "    (9): Conv2d(8, 1, kernel_size=(3, 3), stride=(3, 3), bias=False)\n",
      "    (10): Sigmoid()\n",
      "  )\n",
      ")\n"
     ]
    }
   ],
   "source": [
    "# Create the Discriminator\n",
    "netD = Discriminator().to(DEVICE)\n",
    "print(netD)"
   ]
  },
  {
   "cell_type": "markdown",
   "source": [
    "### Testing NetD"
   ],
   "metadata": {
    "collapsed": false,
    "pycharm": {
     "name": "#%% md\n"
    }
   }
  },
  {
   "cell_type": "code",
   "execution_count": null,
   "metadata": {
    "id": "wQDbFqqqCZZs",
    "pycharm": {
     "name": "#%%\n"
    }
   },
   "outputs": [],
   "source": [
    "input_x = torch.randn(1, 3, 68, 68).to(DEVICE)\n",
    "input_y = torch.randn(1, 1, 13).view(-1, 13).to(DEVICE)\n",
    "out_xy = netD(input_x, input_y)"
   ]
  },
  {
   "cell_type": "code",
   "execution_count": null,
   "metadata": {
    "colab": {
     "base_uri": "https://localhost:8080/"
    },
    "executionInfo": {
     "elapsed": 5,
     "status": "ok",
     "timestamp": 1660838863012,
     "user": {
      "displayName": "Frederick Atiah",
      "userId": "02989612204172587808"
     },
     "user_tz": 240
    },
    "id": "N-Nqa1xLB7Kn",
    "outputId": "d94ac508-b841-4738-dac0-d3912992d6b4",
    "pycharm": {
     "name": "#%%\n"
    }
   },
   "outputs": [
    {
     "output_type": "execute_result",
     "data": {
      "text/plain": [
       "torch.Size([1, 1])"
      ]
     },
     "metadata": {},
     "execution_count": 50
    }
   ],
   "source": [
    "[1, 1132096]\n",
    "[1, 139392]\n",
    "out_xy.shape"
   ]
  },
  {
   "cell_type": "code",
   "execution_count": null,
   "metadata": {
    "id": "RI6XaQwyJ98q",
    "pycharm": {
     "name": "#%%\n"
    }
   },
   "outputs": [],
   "source": [
    "m = nn.Sigmoid()\n",
    "loss = nn.BCELoss()\n",
    "input = torch.randn(3, requires_grad=True)\n",
    "target = torch.empty(3).random_(2)\n",
    "output = loss(m(input), target)\n",
    "output.backward()"
   ]
  },
  {
   "cell_type": "code",
   "execution_count": null,
   "metadata": {
    "colab": {
     "base_uri": "https://localhost:8080/"
    },
    "executionInfo": {
     "elapsed": 170,
     "status": "ok",
     "timestamp": 1660838863180,
     "user": {
      "displayName": "Frederick Atiah",
      "userId": "02989612204172587808"
     },
     "user_tz": 240
    },
    "id": "cDnuZlk3Klrz",
    "outputId": "4ca81713-2c76-4108-a0fb-5c358acf42f6",
    "pycharm": {
     "name": "#%%\n"
    }
   },
   "outputs": [
    {
     "output_type": "execute_result",
     "data": {
      "text/plain": [
       "(tensor([0.4124, 0.7190, 0.1609], grad_fn=<SigmoidBackward0>),\n",
       " tensor([0., 0., 0.]))"
      ]
     },
     "metadata": {},
     "execution_count": 52
    }
   ],
   "source": [
    "m(input), target"
   ]
  },
  {
   "cell_type": "markdown",
   "metadata": {
    "id": "1Zm6hsLk4kHv",
    "pycharm": {
     "name": "#%% md\n"
    }
   },
   "source": [
    "## Generator Model ( G )\n",
    "\n",
    "Aim of the generator is to fool the discriminator model. Generator will take random noise ( latent vector) z and label for which image need to be generated. Label will be passed as onehot encoding.\n",
    "\n",
    "\n",
    "\n",
    "\n",
    "\n"
   ]
  },
  {
   "cell_type": "code",
   "execution_count": null,
   "metadata": {
    "id": "n5C5Ix7Z8l8N",
    "pycharm": {
     "name": "#%%\n"
    }
   },
   "outputs": [],
   "source": [
    "from torch.nn.modules.activation import Softmax\n",
    "from torch.nn.modules import linear\n",
    "\n",
    "\n",
    "class Generator(nn.Module):\n",
    "    \"\"\" G(z) \"\"\"\n",
    "\n",
    "    def __init__(self, input_size=100):\n",
    "        # initalize super module\n",
    "        super(Generator, self).__init__()\n",
    "\n",
    "        # embedded layer for y(conditional input)\n",
    "        self.linear_y = nn.Sequential(nn.Linear(689, 507),\n",
    "                                      nn.LeakyReLU(),\n",
    "\n",
    "                                      self.layer_xy = nn.Sequential(\n",
    "            nn.ConvTranspose2d(in_channels=3, out_channels=2, kernel_size=5,\n",
    "                               stride=2, padding=0, bias=False),\n",
    "            nn.BatchNorm2d(2),\n",
    "            nn.LeakyReLU(True),\n",
    "            nn.Dropout(0.2),\n",
    "            nn.ConvTranspose2d(in_channels=2, out_channels=2, kernel_size=5,\n",
    "                               stride=2, padding=0, bias=False),\n",
    "            nn.BatchNorm2d(2),\n",
    "            nn.LeakyReLU(True),\n",
    "            nn.Dropout(0.2),\n",
    "            nn.ConvTranspose2d(in_channels=2, out_channels=2, kernel_size=5,\n",
    "                               stride=1, padding=0, bias=False),\n",
    "            nn.BatchNorm2d(2),\n",
    "            nn.LeakyReLU(True),\n",
    "            nn.Dropout(0.2),\n",
    "            nn.ConvTranspose2d(in_channels=2, out_channels=3, kernel_size=4,\n",
    "                               stride=1, padding=0, bias=False),\n",
    "            nn.Tanh()\n",
    "        )\n",
    "\n",
    "        def forward(self, x, y):\n",
    "            b_sz = x.shape[0]\n",
    "            x = x.flatten()\n",
    "            y = y.flatten()\n",
    "\n",
    "            xy = torch.cat([x, y], dim=-1).view(b_sz, 1, -1)\n",
    "            xy = self.linear_y(xy)\n",
    "\n",
    "            xy = self.layer_xy(xy.view(b_sz, 3, 13, 13))\n",
    "            # print(xy.shape)\n",
    "            # xy = self.linear_xy(xy.view(b_sz,-1, 1870 * 1870))\n",
    "            return xy"
   ]
  },
  {
   "cell_type": "code",
   "execution_count": null,
   "metadata": {
    "colab": {
     "base_uri": "https://localhost:8080/"
    },
    "executionInfo": {
     "elapsed": 9,
     "status": "ok",
     "timestamp": 1660838863181,
     "user": {
      "displayName": "Frederick Atiah",
      "userId": "02989612204172587808"
     },
     "user_tz": 240
    },
    "id": "csfqJLdh8oSI",
    "outputId": "1231f7d7-fb15-4c28-e6f2-5670e3c4a388",
    "pycharm": {
     "name": "#%%\n"
    }
   },
   "outputs": [
    {
     "output_type": "stream",
     "name": "stdout",
     "text": [
      "Generator(\n",
      "  (linear_y): Sequential(\n",
      "    (0): Linear(in_features=689, out_features=507, bias=True)\n",
      "    (1): LeakyReLU(negative_slope=0.01)\n",
      "  )\n",
      "  (layer_xy): Sequential(\n",
      "    (0): ConvTranspose2d(3, 2, kernel_size=(5, 5), stride=(2, 2), bias=False)\n",
      "    (1): BatchNorm2d(2, eps=1e-05, momentum=0.1, affine=True, track_running_stats=True)\n",
      "    (2): LeakyReLU(negative_slope=True)\n",
      "    (3): Dropout(p=0.2, inplace=False)\n",
      "    (4): ConvTranspose2d(2, 2, kernel_size=(5, 5), stride=(2, 2), bias=False)\n",
      "    (5): BatchNorm2d(2, eps=1e-05, momentum=0.1, affine=True, track_running_stats=True)\n",
      "    (6): LeakyReLU(negative_slope=True)\n",
      "    (7): Dropout(p=0.2, inplace=False)\n",
      "    (8): ConvTranspose2d(2, 2, kernel_size=(5, 5), stride=(1, 1), bias=False)\n",
      "    (9): BatchNorm2d(2, eps=1e-05, momentum=0.1, affine=True, track_running_stats=True)\n",
      "    (10): LeakyReLU(negative_slope=True)\n",
      "    (11): Dropout(p=0.2, inplace=False)\n",
      "    (12): ConvTranspose2d(2, 3, kernel_size=(4, 4), stride=(1, 1), bias=False)\n",
      "    (13): Tanh()\n",
      "  )\n",
      ")\n"
     ]
    }
   ],
   "source": [
    "# Create the Generator\n",
    "netG = Generator().to(DEVICE)\n",
    "print(netG)"
   ]
  },
  {
   "cell_type": "markdown",
   "source": [
    "## Testing netG"
   ],
   "metadata": {
    "collapsed": false,
    "pycharm": {
     "name": "#%% md\n"
    }
   }
  },
  {
   "cell_type": "code",
   "execution_count": null,
   "metadata": {
    "id": "kOhU208CMvhZ",
    "pycharm": {
     "name": "#%%\n"
    }
   },
   "outputs": [],
   "source": [
    "# input_x = torch.randn(2, 4, 64, 64).view(2, -1, 4*64*64).to(DEVICE)\n",
    "input_x = torch.randn(2, 4, 13, 13).to(DEVICE)\n",
    "input_y = torch.randn(2, 1, 1, 13).view(-1, 13).to(DEVICE)\n",
    "out_xy = netG(input_x, input_y)\n"
   ]
  },
  {
   "cell_type": "code",
   "execution_count": null,
   "metadata": {
    "colab": {
     "base_uri": "https://localhost:8080/"
    },
    "executionInfo": {
     "elapsed": 7,
     "status": "ok",
     "timestamp": 1660838863181,
     "user": {
      "displayName": "Frederick Atiah",
      "userId": "02989612204172587808"
     },
     "user_tz": 240
    },
    "id": "NCFPVj0-M-z0",
    "outputId": "9e6e6b34-1abe-43d3-c692-929440a038b4",
    "pycharm": {
     "name": "#%%\n"
    }
   },
   "outputs": [
    {
     "output_type": "execute_result",
     "data": {
      "text/plain": [
       "torch.Size([2, 3, 68, 68])"
      ]
     },
     "metadata": {},
     "execution_count": 57
    }
   ],
   "source": [
    "out_xy.shape\n"
   ]
  },
  {
   "cell_type": "markdown",
   "metadata": {
    "id": "Z6YXrnydFPc-",
    "pycharm": {
     "name": "#%% md\n"
    }
   },
   "source": [
    "## Weight Initalization \n",
    "From the DCGAN paper, the authors specify that all model weights shall be randomly initialized from a Normal distribution with mean=0, stdev=0.02."
   ]
  },
  {
   "cell_type": "code",
   "execution_count": null,
   "metadata": {
    "id": "B6mHiuWp8sOi",
    "pycharm": {
     "name": "#%%\n"
    }
   },
   "outputs": [],
   "source": [
    "# custom weights initialization\n",
    "def weights_init(net):\n",
    "    classname = net.__class__.__name__\n",
    "    if classname.find('Conv') != -1:\n",
    "        nn.init.normal_(net.weight.data, 0.0, 0.02)\n",
    "    elif classname.find('BatchNorm') != -1:\n",
    "        nn.init.normal_(net.weight.data, 1.0, 0.02)\n",
    "        nn.init.constant_(net.bias.data, 0)"
   ]
  },
  {
   "cell_type": "code",
   "execution_count": null,
   "metadata": {
    "colab": {
     "base_uri": "https://localhost:8080/"
    },
    "executionInfo": {
     "elapsed": 6,
     "status": "ok",
     "timestamp": 1660838863181,
     "user": {
      "displayName": "Frederick Atiah",
      "userId": "02989612204172587808"
     },
     "user_tz": 240
    },
    "id": "gI53g7ah8u-f",
    "outputId": "238b1a4f-44f7-47c6-a0c5-3f27702c2d78",
    "pycharm": {
     "name": "#%%\n"
    }
   },
   "outputs": [
    {
     "output_type": "execute_result",
     "data": {
      "text/plain": [
       "Generator(\n",
       "  (linear_y): Sequential(\n",
       "    (0): Linear(in_features=689, out_features=507, bias=True)\n",
       "    (1): LeakyReLU(negative_slope=0.01)\n",
       "  )\n",
       "  (layer_xy): Sequential(\n",
       "    (0): ConvTranspose2d(3, 2, kernel_size=(5, 5), stride=(2, 2), bias=False)\n",
       "    (1): BatchNorm2d(2, eps=1e-05, momentum=0.1, affine=True, track_running_stats=True)\n",
       "    (2): LeakyReLU(negative_slope=True)\n",
       "    (3): Dropout(p=0.2, inplace=False)\n",
       "    (4): ConvTranspose2d(2, 2, kernel_size=(5, 5), stride=(2, 2), bias=False)\n",
       "    (5): BatchNorm2d(2, eps=1e-05, momentum=0.1, affine=True, track_running_stats=True)\n",
       "    (6): LeakyReLU(negative_slope=True)\n",
       "    (7): Dropout(p=0.2, inplace=False)\n",
       "    (8): ConvTranspose2d(2, 2, kernel_size=(5, 5), stride=(1, 1), bias=False)\n",
       "    (9): BatchNorm2d(2, eps=1e-05, momentum=0.1, affine=True, track_running_stats=True)\n",
       "    (10): LeakyReLU(negative_slope=True)\n",
       "    (11): Dropout(p=0.2, inplace=False)\n",
       "    (12): ConvTranspose2d(2, 3, kernel_size=(4, 4), stride=(1, 1), bias=False)\n",
       "    (13): Tanh()\n",
       "  )\n",
       ")"
      ]
     },
     "metadata": {},
     "execution_count": 59
    }
   ],
   "source": [
    "# randomly initialize all weights to mean=0, stdev=0.2.\n",
    "netD.apply(weights_init)\n",
    "netG.apply(weights_init)"
   ]
  },
  {
   "cell_type": "markdown",
   "metadata": {
    "id": "h_fmu5lBUdPv",
    "pycharm": {
     "name": "#%% md\n"
    }
   },
   "source": [
    "## Model Training\n",
    "\n",
    "\n",
    "\n",
    "*   Value of beta1 hyperparameter in Adam optimizer has huge impact on stability of generator and DCGAN paper recommend 0.5 value.\n",
    "*   Recommended learning rate for Adam is 0.0002."
   ]
  },
  {
   "cell_type": "code",
   "execution_count": null,
   "metadata": {
    "id": "ZDu128c28yWx",
    "pycharm": {
     "name": "#%%\n"
    }
   },
   "outputs": [],
   "source": [
    "# number of training epochs\n",
    "NUM_EPOCH = 100  #@param {type:\"integer\"}\n",
    "# number of discriminator steps for each generator step\n",
    "Ksteps = 1  #@param {type:\"integer\"}\n",
    "# learning rate of adam\n",
    "# DCGAN recommend 0.0002 lr\n",
    "Adam_lr = 0.0002  #@param {type:\"number\"}\n",
    "# DCGAN recommend 0.5\n",
    "Adam_beta1 = 0.5  #@param {type:\"number\"}"
   ]
  },
  {
   "cell_type": "code",
   "execution_count": null,
   "metadata": {
    "id": "-9V6SiTY81L_",
    "pycharm": {
     "name": "#%%\n"
    }
   },
   "outputs": [],
   "source": [
    "# We calculate Binary cross entropy loss\n",
    "criterion = nn.BCELoss()\n",
    "# Adam optimizer for generator \n",
    "optimizerG = torch.optim.Adam(netG.parameters(), lr=Adam_lr, betas=(Adam_beta1, 0.999))\n",
    "# Adam optimizer for discriminator \n",
    "optimizerD = torch.optim.Adam(netD.parameters(), lr=Adam_lr, betas=(Adam_beta1, 0.999))"
   ]
  },
  {
   "cell_type": "code",
   "execution_count": null,
   "metadata": {
    "id": "TtnRTzkr85jD",
    "pycharm": {
     "name": "#%%\n"
    }
   },
   "outputs": [],
   "source": [
    "# labels for training images x for Discriminator training\n",
    "labels_real = torch.ones((BATCH_SIZE, 1)).to(DEVICE)\n",
    "# labels for generated images G(z) for Discriminator training\n",
    "labels_fake = torch.zeros((BATCH_SIZE, 1)).to(DEVICE)\n",
    "# Fix noise for testing generator and visualization\n",
    "z_test = torch.randn(68, 68).to(DEVICE)"
   ]
  },
  {
   "cell_type": "code",
   "execution_count": null,
   "metadata": {
    "id": "2IrFAll688Pt",
    "pycharm": {
     "name": "#%%\n"
    }
   },
   "outputs": [],
   "source": [
    "sample, lbl = train_data[200]\n",
    "test_Gy = lbl.to(DEVICE)\n",
    "z_test = torch.randn(3, 13, 13, device=DEVICE)\n",
    "z_test = sample['inputImage'].to(DEVICE)"
   ]
  },
  {
   "cell_type": "code",
   "execution_count": null,
   "metadata": {
    "colab": {
     "base_uri": "https://localhost:8080/"
    },
    "executionInfo": {
     "elapsed": 3,
     "status": "ok",
     "timestamp": 1660838863330,
     "user": {
      "displayName": "Frederick Atiah",
      "userId": "02989612204172587808"
     },
     "user_tz": 240
    },
    "id": "uV5TJ_qoTPaa",
    "outputId": "74a5fd55-5b7e-40a4-c7d8-fd2271d9c177",
    "pycharm": {
     "name": "#%%\n"
    }
   },
   "outputs": [
    {
     "output_type": "execute_result",
     "data": {
      "text/plain": [
       "tensor([[0., 0., 0., 0., 0., 0., 0., 0., 0., 0., 0., 1., 0.]], device='cuda:0')"
      ]
     },
     "metadata": {},
     "execution_count": 64
    }
   ],
   "source": [
    "test_Gy"
   ]
  },
  {
   "cell_type": "markdown",
   "source": [
    "## Training"
   ],
   "metadata": {
    "collapsed": false,
    "pycharm": {
     "name": "#%% md\n"
    }
   }
  },
  {
   "cell_type": "code",
   "execution_count": null,
   "metadata": {
    "colab": {
     "base_uri": "https://localhost:8080/"
    },
    "id": "a9fK-GL68_m3",
    "outputId": "cdbe3559-b982-43ea-9029-a4eb4ec188c4",
    "executionInfo": {
     "status": "ok",
     "timestamp": 1660853425600,
     "user_tz": 240,
     "elapsed": 5753327,
     "user": {
      "displayName": "Frederick Atiah",
      "userId": "02989612204172587808"
     }
    },
    "pycharm": {
     "name": "#%%\n"
    }
   },
   "outputs": [
    {
     "output_type": "stream",
     "name": "stdout",
     "text": [
      " Epoch 1/100 Discriminator Loss 0.005 Generator Loss 7.560 D(x) 0.998 D(G(x)) 0.002\n",
      " Epoch 2/100 Discriminator Loss 0.049 Generator Loss 7.463 D(x) 0.993 D(G(x)) 0.007\n",
      " Epoch 3/100 Discriminator Loss 0.021 Generator Loss 8.252 D(x) 0.995 D(G(x)) 0.004\n",
      " Epoch 4/100 Discriminator Loss 0.030 Generator Loss 7.982 D(x) 0.994 D(G(x)) 0.003\n",
      " Epoch 5/100 Discriminator Loss 0.013 Generator Loss 8.508 D(x) 0.997 D(G(x)) 0.002\n",
      " Epoch 6/100 Discriminator Loss 0.022 Generator Loss 8.353 D(x) 0.996 D(G(x)) 0.003\n",
      " Epoch 7/100 Discriminator Loss 0.005 Generator Loss 8.688 D(x) 0.998 D(G(x)) 0.002\n",
      " Epoch 8/100 Discriminator Loss 0.003 Generator Loss 8.145 D(x) 0.999 D(G(x)) 0.001\n",
      " Epoch 9/100 Discriminator Loss 0.016 Generator Loss 9.085 D(x) 0.996 D(G(x)) 0.002\n",
      " Epoch 10/100 Discriminator Loss 0.002 Generator Loss 8.822 D(x) 0.999 D(G(x)) 0.001\n",
      " Epoch 11/100 Discriminator Loss 0.027 Generator Loss 8.300 D(x) 0.996 D(G(x)) 0.002\n",
      " Epoch 12/100 Discriminator Loss 0.004 Generator Loss 8.395 D(x) 0.998 D(G(x)) 0.001\n",
      " Epoch 13/100 Discriminator Loss 0.001 Generator Loss 9.714 D(x) 0.999 D(G(x)) 0.001\n",
      " Epoch 14/100 Discriminator Loss 0.001 Generator Loss 8.862 D(x) 1.000 D(G(x)) 0.000\n",
      " Epoch 15/100 Discriminator Loss 0.000 Generator Loss 9.852 D(x) 1.000 D(G(x)) 0.000\n",
      " Epoch 16/100 Discriminator Loss 0.000 Generator Loss 10.499 D(x) 1.000 D(G(x)) 0.000\n",
      " Epoch 17/100 Discriminator Loss 0.000 Generator Loss 10.583 D(x) 1.000 D(G(x)) 0.000\n",
      " Epoch 18/100 Discriminator Loss 0.000 Generator Loss 10.417 D(x) 1.000 D(G(x)) 0.000\n",
      " Epoch 19/100 Discriminator Loss 0.000 Generator Loss 11.368 D(x) 1.000 D(G(x)) 0.000\n",
      " Epoch 20/100 Discriminator Loss 0.027 Generator Loss 9.467 D(x) 0.999 D(G(x)) 0.002\n",
      " Epoch 21/100 Discriminator Loss 0.001 Generator Loss 9.141 D(x) 1.000 D(G(x)) 0.000\n",
      " Epoch 22/100 Discriminator Loss 0.042 Generator Loss 10.062 D(x) 0.997 D(G(x)) 0.005\n",
      " Epoch 23/100 Discriminator Loss 0.032 Generator Loss 9.510 D(x) 0.994 D(G(x)) 0.002\n",
      " Epoch 24/100 Discriminator Loss 0.011 Generator Loss 7.907 D(x) 0.997 D(G(x)) 0.002\n",
      " Epoch 25/100 Discriminator Loss 0.002 Generator Loss 9.153 D(x) 0.999 D(G(x)) 0.001\n",
      " Epoch 26/100 Discriminator Loss 0.006 Generator Loss 9.742 D(x) 0.998 D(G(x)) 0.002\n",
      " Epoch 27/100 Discriminator Loss 0.002 Generator Loss 8.387 D(x) 0.999 D(G(x)) 0.001\n",
      " Epoch 28/100 Discriminator Loss 0.001 Generator Loss 9.276 D(x) 0.999 D(G(x)) 0.000\n",
      " Epoch 29/100 Discriminator Loss 0.016 Generator Loss 10.072 D(x) 0.999 D(G(x)) 0.002\n",
      " Epoch 30/100 Discriminator Loss 0.002 Generator Loss 8.850 D(x) 0.999 D(G(x)) 0.001\n",
      " Epoch 31/100 Discriminator Loss 0.029 Generator Loss 8.464 D(x) 0.996 D(G(x)) 0.003\n",
      " Epoch 32/100 Discriminator Loss 0.001 Generator Loss 9.061 D(x) 1.000 D(G(x)) 0.000\n",
      " Epoch 33/100 Discriminator Loss 0.010 Generator Loss 8.980 D(x) 0.997 D(G(x)) 0.002\n",
      " Epoch 34/100 Discriminator Loss 0.001 Generator Loss 9.828 D(x) 0.999 D(G(x)) 0.000\n",
      " Epoch 35/100 Discriminator Loss 0.000 Generator Loss 9.425 D(x) 1.000 D(G(x)) 0.000\n",
      " Epoch 36/100 Discriminator Loss 0.000 Generator Loss 9.787 D(x) 1.000 D(G(x)) 0.000\n",
      " Epoch 37/100 Discriminator Loss 0.016 Generator Loss 9.985 D(x) 0.998 D(G(x)) 0.002\n",
      " Epoch 38/100 Discriminator Loss 0.009 Generator Loss 9.038 D(x) 0.998 D(G(x)) 0.002\n",
      " Epoch 39/100 Discriminator Loss 0.006 Generator Loss 8.875 D(x) 0.998 D(G(x)) 0.002\n",
      " Epoch 40/100 Discriminator Loss 0.001 Generator Loss 11.222 D(x) 0.999 D(G(x)) 0.000\n",
      " Epoch 41/100 Discriminator Loss 0.000 Generator Loss 9.243 D(x) 1.000 D(G(x)) 0.000\n",
      " Epoch 42/100 Discriminator Loss 0.000 Generator Loss 9.122 D(x) 1.000 D(G(x)) 0.000\n",
      " Epoch 43/100 Discriminator Loss 0.028 Generator Loss 8.558 D(x) 0.995 D(G(x)) 0.002\n",
      " Epoch 44/100 Discriminator Loss 0.007 Generator Loss 7.797 D(x) 0.997 D(G(x)) 0.002\n",
      " Epoch 45/100 Discriminator Loss 0.002 Generator Loss 7.924 D(x) 1.000 D(G(x)) 0.001\n",
      " Epoch 46/100 Discriminator Loss 0.001 Generator Loss 9.333 D(x) 0.999 D(G(x)) 0.000\n",
      " Epoch 47/100 Discriminator Loss 0.021 Generator Loss 9.853 D(x) 0.999 D(G(x)) 0.002\n",
      " Epoch 48/100 Discriminator Loss 0.001 Generator Loss 7.796 D(x) 1.000 D(G(x)) 0.001\n",
      " Epoch 49/100 Discriminator Loss 0.001 Generator Loss 9.109 D(x) 1.000 D(G(x)) 0.000\n",
      " Epoch 50/100 Discriminator Loss 0.000 Generator Loss 9.875 D(x) 1.000 D(G(x)) 0.000\n",
      " Epoch 51/100 Discriminator Loss 0.041 Generator Loss 9.390 D(x) 0.996 D(G(x)) 0.005\n",
      " Epoch 52/100 Discriminator Loss 0.015 Generator Loss 8.177 D(x) 0.996 D(G(x)) 0.003\n",
      " Epoch 53/100 Discriminator Loss 0.016 Generator Loss 9.379 D(x) 0.996 D(G(x)) 0.002\n",
      " Epoch 54/100 Discriminator Loss 0.007 Generator Loss 9.563 D(x) 0.997 D(G(x)) 0.001\n",
      " Epoch 55/100 Discriminator Loss 0.012 Generator Loss 10.365 D(x) 0.997 D(G(x)) 0.001\n",
      " Epoch 56/100 Discriminator Loss 0.021 Generator Loss 9.793 D(x) 0.996 D(G(x)) 0.003\n",
      " Epoch 57/100 Discriminator Loss 0.021 Generator Loss 8.049 D(x) 0.995 D(G(x)) 0.003\n",
      " Epoch 58/100 Discriminator Loss 0.010 Generator Loss 9.834 D(x) 0.997 D(G(x)) 0.002\n",
      " Epoch 59/100 Discriminator Loss 0.006 Generator Loss 9.896 D(x) 0.999 D(G(x)) 0.002\n",
      " Epoch 60/100 Discriminator Loss 0.013 Generator Loss 8.479 D(x) 0.997 D(G(x)) 0.002\n",
      " Epoch 61/100 Discriminator Loss 0.015 Generator Loss 7.652 D(x) 0.995 D(G(x)) 0.004\n",
      " Epoch 62/100 Discriminator Loss 0.036 Generator Loss 8.090 D(x) 0.992 D(G(x)) 0.004\n",
      " Epoch 63/100 Discriminator Loss 0.003 Generator Loss 8.718 D(x) 0.998 D(G(x)) 0.001\n",
      " Epoch 64/100 Discriminator Loss 0.047 Generator Loss 7.900 D(x) 0.991 D(G(x)) 0.003\n",
      " Epoch 65/100 Discriminator Loss 0.014 Generator Loss 9.319 D(x) 0.996 D(G(x)) 0.003\n",
      " Epoch 66/100 Discriminator Loss 0.015 Generator Loss 8.640 D(x) 0.996 D(G(x)) 0.003\n",
      " Epoch 67/100 Discriminator Loss 0.013 Generator Loss 9.049 D(x) 0.997 D(G(x)) 0.003\n",
      " Epoch 68/100 Discriminator Loss 0.021 Generator Loss 8.922 D(x) 0.997 D(G(x)) 0.002\n",
      " Epoch 69/100 Discriminator Loss 0.015 Generator Loss 6.977 D(x) 0.996 D(G(x)) 0.004\n",
      " Epoch 70/100 Discriminator Loss 0.004 Generator Loss 7.689 D(x) 0.998 D(G(x)) 0.002\n",
      " Epoch 71/100 Discriminator Loss 0.033 Generator Loss 7.905 D(x) 0.990 D(G(x)) 0.007\n",
      " Epoch 72/100 Discriminator Loss 0.016 Generator Loss 8.686 D(x) 0.996 D(G(x)) 0.003\n",
      " Epoch 73/100 Discriminator Loss 0.038 Generator Loss 8.526 D(x) 0.992 D(G(x)) 0.006\n",
      " Epoch 74/100 Discriminator Loss 0.011 Generator Loss 9.096 D(x) 0.996 D(G(x)) 0.002\n",
      " Epoch 75/100 Discriminator Loss 0.005 Generator Loss 9.789 D(x) 0.998 D(G(x)) 0.001\n",
      " Epoch 76/100 Discriminator Loss 0.021 Generator Loss 7.098 D(x) 0.997 D(G(x)) 0.004\n",
      " Epoch 77/100 Discriminator Loss 0.031 Generator Loss 8.782 D(x) 0.996 D(G(x)) 0.004\n",
      " Epoch 78/100 Discriminator Loss 0.013 Generator Loss 8.682 D(x) 0.996 D(G(x)) 0.001\n",
      " Epoch 79/100 Discriminator Loss 0.014 Generator Loss 10.499 D(x) 0.995 D(G(x)) 0.001\n",
      " Epoch 80/100 Discriminator Loss 0.041 Generator Loss 8.877 D(x) 0.990 D(G(x)) 0.006\n",
      " Epoch 81/100 Discriminator Loss 0.006 Generator Loss 9.631 D(x) 0.997 D(G(x)) 0.001\n",
      " Epoch 82/100 Discriminator Loss 0.003 Generator Loss 9.330 D(x) 0.999 D(G(x)) 0.001\n",
      " Epoch 83/100 Discriminator Loss 0.023 Generator Loss 10.018 D(x) 0.995 D(G(x)) 0.003\n",
      " Epoch 84/100 Discriminator Loss 0.004 Generator Loss 9.065 D(x) 0.998 D(G(x)) 0.001\n",
      " Epoch 85/100 Discriminator Loss 0.022 Generator Loss 10.105 D(x) 0.994 D(G(x)) 0.004\n",
      " Epoch 86/100 Discriminator Loss 0.035 Generator Loss 9.517 D(x) 0.992 D(G(x)) 0.003\n",
      " Epoch 87/100 Discriminator Loss 0.011 Generator Loss 9.881 D(x) 0.996 D(G(x)) 0.001\n",
      " Epoch 88/100 Discriminator Loss 0.006 Generator Loss 10.258 D(x) 0.997 D(G(x)) 0.001\n",
      " Epoch 89/100 Discriminator Loss 0.002 Generator Loss 9.583 D(x) 0.999 D(G(x)) 0.001\n",
      " Epoch 90/100 Discriminator Loss 0.001 Generator Loss 9.491 D(x) 1.000 D(G(x)) 0.000\n",
      " Epoch 91/100 Discriminator Loss 0.025 Generator Loss 10.319 D(x) 0.997 D(G(x)) 0.002\n",
      " Epoch 92/100 Discriminator Loss 0.003 Generator Loss 9.214 D(x) 0.999 D(G(x)) 0.001\n",
      " Epoch 93/100 Discriminator Loss 0.007 Generator Loss 10.404 D(x) 0.998 D(G(x)) 0.002\n",
      " Epoch 94/100 Discriminator Loss 0.002 Generator Loss 10.023 D(x) 0.999 D(G(x)) 0.000\n",
      " Epoch 95/100 Discriminator Loss 0.017 Generator Loss 10.677 D(x) 0.998 D(G(x)) 0.002\n",
      " Epoch 96/100 Discriminator Loss 0.002 Generator Loss 9.630 D(x) 0.999 D(G(x)) 0.000\n",
      " Epoch 97/100 Discriminator Loss 0.001 Generator Loss 10.039 D(x) 1.000 D(G(x)) 0.000\n",
      " Epoch 98/100 Discriminator Loss 0.001 Generator Loss 12.204 D(x) 0.999 D(G(x)) 0.000\n",
      " Epoch 99/100 Discriminator Loss 0.007 Generator Loss 10.024 D(x) 0.999 D(G(x)) 0.002\n",
      " Epoch 100/100 Discriminator Loss 0.001 Generator Loss 9.615 D(x) 1.000 D(G(x)) 0.000\n"
     ]
    }
   ],
   "source": [
    "# List of values, which will be used for plotting purpose\n",
    "D_losses = []\n",
    "G_losses = []\n",
    "Dx_values = []\n",
    "DGz_values = []\n",
    "img_list = []\n",
    "# number of training steps done on discriminator \n",
    "step = 0\n",
    "for epoch in range(NUM_EPOCH):\n",
    "    epoch_D_losses = []\n",
    "    epoch_G_losses = []\n",
    "    epoch_Dx = []\n",
    "    epoch_DGz = []\n",
    "    # iterate through data loader generator object\n",
    "    for i, data in enumerate(dataloader, 0):\n",
    "        images, y_labels = data\n",
    "        step += 1\n",
    "        ############################\n",
    "        # Update D network: maximize log(D(x)) + log(1 - D(G(z)))\n",
    "        ###########################\n",
    "        # images will be send to gpu, if cuda available\n",
    "        x = images['image'].to(DEVICE)\n",
    "\n",
    "        D_y = y_labels.to(DEVICE)\n",
    "\n",
    "        # forward pass D(x)\n",
    "        x_preds = netD(x, D_y)\n",
    "\n",
    "        # calculate loss log(D(x))\n",
    "        D_x_loss = criterion(x_preds, labels_real)\n",
    "\n",
    "        # create latent vector z from normal distribution\n",
    "        z = images['inputImage'].to(DEVICE)\n",
    "        G_y = y_labels.to(DEVICE)\n",
    "\n",
    "        # generate image\n",
    "        fake_image = netG(z, G_y)\n",
    "        # calculate D(G(z)), fake or not\n",
    "        z_preds = netD(fake_image.detach(), G_y)\n",
    "\n",
    "        # loss log(1 - D(G(z)))\n",
    "        D_z_loss = criterion(z_preds, labels_fake)\n",
    "\n",
    "        # total loss = log(D(x)) + log(1 - D(G(z)))\n",
    "        D_loss = D_x_loss + D_z_loss\n",
    "\n",
    "        # save values for plots\n",
    "        epoch_D_losses.append(D_loss.item())\n",
    "        epoch_Dx.append(x_preds.mean().item())\n",
    "\n",
    "        # zero accumalted grads\n",
    "        netD.zero_grad()\n",
    "        # do backward pass\n",
    "        D_loss.backward()\n",
    "        # update discriminator model\n",
    "        optimizerD.step()\n",
    "\n",
    "        ############################\n",
    "        # Update G network: maximize log(D(G(z)))\n",
    "        ###########################\n",
    "\n",
    "        # if Ksteps of Discriminator training are done, update generator\n",
    "        if step % Ksteps == 0:\n",
    "            # As we done one step of discriminator, again calculate D(G(z))\n",
    "            z_out = netD(fake_image, G_y)\n",
    "\n",
    "            # loss log(D(G(z)))\n",
    "            G_loss = criterion(z_out, labels_real)\n",
    "            # G_loss = -torch.mean(z_out)\n",
    "\n",
    "            # save values for plots\n",
    "            epoch_DGz.append(z_out.mean().item())\n",
    "            epoch_G_losses.append(G_loss)\n",
    "\n",
    "            # zero accumalted grads\n",
    "            netG.zero_grad()\n",
    "            # do backward pass\n",
    "            G_loss.backward()\n",
    "            # update generator model\n",
    "            optimizerG.step()\n",
    "    else:\n",
    "        # calculate average value for one epoch\n",
    "        D_losses.append(sum(epoch_D_losses) / len(epoch_D_losses))\n",
    "        G_losses.append(sum(epoch_G_losses) / len(epoch_G_losses))\n",
    "        Dx_values.append(sum(epoch_Dx) / len(epoch_Dx))\n",
    "        DGz_values.append(sum(epoch_DGz) / len(epoch_DGz))\n",
    "\n",
    "        print(f\" Epoch {epoch + 1}/{NUM_EPOCH} Discriminator Loss {D_losses[-1]:.3f} Generator Loss {G_losses[-1]:.3f}\"\n",
    "              + f\" D(x) {Dx_values[-1]:.3f} D(G(x)) {DGz_values[-1]:.3f}\")\n",
    "\n",
    "        # Generating images after each epoch and saving\n",
    "        # set generator to evaluation mode\n",
    "        netG.eval()\n",
    "\n",
    "        if (step % 50 == 0) and (i == len(dataloader) - 1):\n",
    "            with torch.no_grad():\n",
    "                fake = netG(z_test.view(1, 4, 13, 13), test_Gy.view(1, 1, 13)).cpu()\n",
    "            img_list.append(vutils.make_grid(fake, padding=2, normalize=True))\n",
    "        netG.train()"
   ]
  },
  {
   "cell_type": "markdown",
   "metadata": {
    "id": "wD0jTPLKZzTu",
    "pycharm": {
     "name": "#%% md\n"
    }
   },
   "source": [
    "## Results\n",
    "\n",
    "After 20 epoch training, we are able to generate quite good images."
   ]
  },
  {
   "cell_type": "markdown",
   "source": [
    "## Save model"
   ],
   "metadata": {
    "collapsed": false,
    "pycharm": {
     "name": "#%% md\n"
    }
   }
  },
  {
   "cell_type": "code",
   "source": [
    "# torch.save(netG.state_dict(), '/content/drive/MyDrive/GBC/Friends/Capstone_Project/Fashion/netG.pt')\n",
    "# torch.save(netD.state_dict(), '/content/drive/MyDrive/GBC/Friends/Capstone_Project/Fashion/netD.pt')"
   ],
   "metadata": {
    "id": "gtCJvap5xZEP",
    "pycharm": {
     "name": "#%%\n"
    }
   },
   "execution_count": null,
   "outputs": []
  },
  {
   "cell_type": "markdown",
   "source": [
    "## Load and test Model"
   ],
   "metadata": {
    "collapsed": false,
    "pycharm": {
     "name": "#%% md\n"
    }
   }
  },
  {
   "cell_type": "code",
   "source": [
    "model = Generator().to(DEVICE)\n",
    "model.load_state_dict(torch.load('/content/drive/MyDrive/GBC/Friends/Capstone_Project/Fashion/netG.pt'))\n",
    "model.eval()"
   ],
   "metadata": {
    "colab": {
     "base_uri": "https://localhost:8080/"
    },
    "id": "O-W3YvUJ_bxv",
    "executionInfo": {
     "status": "ok",
     "timestamp": 1660866599501,
     "user_tz": 240,
     "elapsed": 130,
     "user": {
      "displayName": "Frederick Atiah",
      "userId": "02989612204172587808"
     }
    },
    "outputId": "4747d3f7-a2e5-4a02-df5a-acb2904704b1",
    "pycharm": {
     "name": "#%%\n"
    }
   },
   "execution_count": null,
   "outputs": [
    {
     "output_type": "execute_result",
     "data": {
      "text/plain": [
       "Generator(\n",
       "  (linear_y): Sequential(\n",
       "    (0): Linear(in_features=689, out_features=507, bias=True)\n",
       "    (1): LeakyReLU(negative_slope=0.01)\n",
       "  )\n",
       "  (layer_xy): Sequential(\n",
       "    (0): ConvTranspose2d(3, 2, kernel_size=(5, 5), stride=(2, 2), bias=False)\n",
       "    (1): BatchNorm2d(2, eps=1e-05, momentum=0.1, affine=True, track_running_stats=True)\n",
       "    (2): LeakyReLU(negative_slope=True)\n",
       "    (3): Dropout(p=0.2, inplace=False)\n",
       "    (4): ConvTranspose2d(2, 2, kernel_size=(5, 5), stride=(2, 2), bias=False)\n",
       "    (5): BatchNorm2d(2, eps=1e-05, momentum=0.1, affine=True, track_running_stats=True)\n",
       "    (6): LeakyReLU(negative_slope=True)\n",
       "    (7): Dropout(p=0.2, inplace=False)\n",
       "    (8): ConvTranspose2d(2, 2, kernel_size=(5, 5), stride=(1, 1), bias=False)\n",
       "    (9): BatchNorm2d(2, eps=1e-05, momentum=0.1, affine=True, track_running_stats=True)\n",
       "    (10): LeakyReLU(negative_slope=True)\n",
       "    (11): Dropout(p=0.2, inplace=False)\n",
       "    (12): ConvTranspose2d(2, 3, kernel_size=(4, 4), stride=(1, 1), bias=False)\n",
       "    (13): Tanh()\n",
       "  )\n",
       ")"
      ]
     },
     "metadata": {},
     "execution_count": 24
    }
   ]
  },
  {
   "cell_type": "code",
   "execution_count": null,
   "metadata": {
    "id": "CAy4cVZpjz2O",
    "pycharm": {
     "name": "#%%\n"
    }
   },
   "outputs": [],
   "source": [
    "i = np.random.randint(1000, size=1)[0]\n",
    "sample, lbl = train_data[i]\n",
    "test_Gy = lbl.to(DEVICE)\n",
    "z_test = sample['inputImage'].to(DEVICE)\n",
    "\n",
    "fake2 = model(z_test.view(1, 4, 13, 13), test_Gy.view(1, 1, 13)).cpu()\n",
    "img = vutils.make_grid(fake2, padding=2, normalize=True)"
   ]
  },
  {
   "cell_type": "markdown",
   "source": [
    "## plot generated Image"
   ],
   "metadata": {
    "collapsed": false,
    "pycharm": {
     "name": "#%% md\n"
    }
   }
  },
  {
   "cell_type": "code",
   "execution_count": null,
   "metadata": {
    "colab": {
     "base_uri": "https://localhost:8080/",
     "height": 357
    },
    "id": "W1YdBN1yh-Ym",
    "executionInfo": {
     "status": "ok",
     "timestamp": 1660866654782,
     "user_tz": 240,
     "elapsed": 288,
     "user": {
      "displayName": "Frederick Atiah",
      "userId": "02989612204172587808"
     }
    },
    "outputId": "870b5db2-7e74-48e4-d399-8633aedd8a9b",
    "pycharm": {
     "name": "#%%\n"
    }
   },
   "outputs": [
    {
     "output_type": "stream",
     "name": "stderr",
     "text": [
      "WARNING:matplotlib.image:Clipping input data to the valid range for imshow with RGB data ([0..1] for floats or [0..255] for integers).\n"
     ]
    },
    {
     "output_type": "execute_result",
     "data": {
      "text/plain": [
       "<matplotlib.image.AxesImage at 0x7f0220069ed0>"
      ]
     },
     "metadata": {},
     "execution_count": 28
    },
    {
     "output_type": "display_data",
     "data": {
      "text/plain": [
       "<Figure size 360x360 with 1 Axes>"
      ],
      "image/png": "[encoded data removed]"
     },
     "metadata": {
      "needs_background": "light"
     }
    }
   ],
   "source": [
    "plt.figure(figsize=(5, 5))\n",
    "plt.imshow(np.transpose(img, (1, 2, 0)))"
   ]
  },
  {
   "cell_type": "markdown",
   "source": [
    "\n",
    "\n",
    "### Plot for Discriminator and Generator loss over the epochs"
   ],
   "metadata": {
    "collapsed": false,
    "pycharm": {
     "name": "#%% md\n"
    }
   }
  },
  {
   "cell_type": "code",
   "execution_count": null,
   "metadata": {
    "id": "5SYmpS43GRQH",
    "pycharm": {
     "name": "#%%\n"
    }
   },
   "outputs": [],
   "source": [
    "plt.figure(figsize=(10, 5))\n",
    "plt.title(\"Discriminator and Generator loss during Training\")\n",
    "# plot Discriminator and generator loss\n",
    "plt.plot(D_losses, label=\"D Loss\")\n",
    "plt.plot(G_losses, label=\"G Loss\")\n",
    "# get plot axis\n",
    "ax = plt.gca()\n",
    "# remove right and top spine\n",
    "ax.spines['right'].set_visible(False)\n",
    "ax.spines['top'].set_visible(False)\n",
    "# add labels and create legend\n",
    "plt.xlabel(\"num_epochs\")\n",
    "plt.legend()\n",
    "plt.show()"
   ]
  }
 ],
 "metadata": {
  "accelerator": "GPU",
  "colab": {
   "collapsed_sections": [],
   "machine_shape": "hm",
   "name": "Conditional_DCGAN_Fashion.ipynb",
   "provenance": []
  },
  "gpuClass": "standard",
  "kernelspec": {
   "display_name": "Python 3",
   "name": "python3"
  },
  "language_info": {
   "name": "python"
  }
 },
 "nbformat": 4,
 "nbformat_minor": 0
}